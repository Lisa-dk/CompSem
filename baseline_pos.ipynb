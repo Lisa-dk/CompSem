{
 "cells": [
  {
   "cell_type": "markdown",
   "metadata": {},
   "source": [
    "# Word Sense Disambiguation - Baseline\n",
    "## Group 3"
   ]
  },
  {
   "cell_type": "markdown",
   "metadata": {},
   "source": [
    "### Data import"
   ]
  },
  {
   "cell_type": "code",
   "execution_count": 1,
   "metadata": {},
   "outputs": [
    {
     "name": "stderr",
     "output_type": "stream",
     "text": [
      "[nltk_data] Downloading package punkt to\n",
      "[nltk_data]     C:\\Users\\alina\\AppData\\Roaming\\nltk_data...\n",
      "[nltk_data]   Package punkt is already up-to-date!\n",
      "[nltk_data] Downloading package averaged_perceptron_tagger to\n",
      "[nltk_data]     C:\\Users\\alina\\AppData\\Roaming\\nltk_data...\n",
      "[nltk_data]   Package averaged_perceptron_tagger is already up-to-\n",
      "[nltk_data]       date!\n",
      "[nltk_data] Downloading package wordnet to\n",
      "[nltk_data]     C:\\Users\\alina\\AppData\\Roaming\\nltk_data...\n",
      "[nltk_data]   Package wordnet is already up-to-date!\n",
      "[nltk_data] Downloading package omw-1.4 to\n",
      "[nltk_data]     C:\\Users\\alina\\AppData\\Roaming\\nltk_data...\n",
      "[nltk_data]   Package omw-1.4 is already up-to-date!\n"
     ]
    }
   ],
   "source": [
    "import numpy as np \n",
    "import sys \n",
    "from io import open \n",
    "import os\n",
    "from logging import debug, info, warning, error\n",
    "import nltk \n",
    "from nltk.tokenize import word_tokenize\n",
    "from nltk.tag import pos_tag\n",
    "from nltk.stem import WordNetLemmatizer\n",
    "from nltk.corpus import wordnet as wn\n",
    "nltk.download('punkt')\n",
    "nltk.download('averaged_perceptron_tagger')\n",
    "nltk.download('wordnet')\n",
    "nltk.download('omw-1.4')\n",
    "from sklearn.metrics import accuracy_score\n"
   ]
  },
  {
   "cell_type": "code",
   "execution_count": 2,
   "metadata": {},
   "outputs": [],
   "source": [
    "class PARSE_LAYER: \n",
    "    SYM = 2 \n",
    "    SEM = 3 \n",
    "    CAT = 4 \n",
    "    SNS = 5 \n",
    "    ROL = 6\n",
    "    POS = 7"
   ]
  },
  {
   "cell_type": "code",
   "execution_count": 3,
   "metadata": {},
   "outputs": [],
   "source": [
    "# From the repository of the data\n",
    "def get_conll_blocks(in_file, split_lines=True, add_doc=False):\n",
    "    '''Read a CoNLL formatted input file and return the list of lists per sentence/document'''\n",
    "    docs = []\n",
    "    cur_doc = []\n",
    "    doc_ids = []\n",
    "    num_lines = -1\n",
    "    for line in open(in_file, 'r', encoding=\"utf-8\"):\n",
    "        if not line.strip() and cur_doc:\n",
    "            docs.append(cur_doc)\n",
    "            cur_doc = []\n",
    "            doc_ids.append(num_lines)\n",
    "        elif line.strip().startswith('# newdoc'):\n",
    "            # Keep track of start of new documents in doc_ids\n",
    "            # We form a list of all sentences in docs, but at some\n",
    "            # point we have to put multi-sent docs in a single file\n",
    "            num_lines += 1\n",
    "            if add_doc:\n",
    "                cur_doc.append(line.strip())\n",
    "        elif not line.strip().startswith('#') and line.strip():\n",
    "            if len(line.split()) != 7:\n",
    "                raise ValueError(\"Line should always consist of 7 layer-values, found {0}\\n{1}\".format(len(line.split()), line.strip()))\n",
    "            if split_lines:\n",
    "                cur_doc.append(line.split())\n",
    "            else:\n",
    "                cur_doc.append(line.strip())\n",
    "    # Add left over one if there's not an ending last line\n",
    "    if cur_doc:\n",
    "        docs.append(cur_doc)\n",
    "        doc_ids.append(num_lines)\n",
    "    # If num_lines is never increased, this means that the # newdoc information was not added\n",
    "    # In that case we just assume the default of 1 doc per block\n",
    "    if num_lines == -1:\n",
    "        info(\"Assuming 1 document per CoNLL block\")\n",
    "        doc_ids = range(0, len(docs))\n",
    "    info(\"Extracted {0} sents, for {1} docs\".format(len(docs), doc_ids[-1] + 1))\n",
    "    return docs, doc_ids\n"
   ]
  },
  {
   "cell_type": "code",
   "execution_count": 4,
   "metadata": {},
   "outputs": [],
   "source": [
    "def read_data(directory, filename):\n",
    "     path = os.path.join(directory, filename)\n",
    "     docs, docs_ids = get_conll_blocks(path)\n",
    "     return docs\n",
    "\n",
    "language = 'en'\n",
    "standard = 'gold'\n",
    "\n",
    "directory = os.path.join('./data/4.0.0', language, standard)\n",
    "\n",
    "train_data = read_data(os.path.join(directory), 'train.conll')\n",
    "test_data = read_data(os.path.join(directory), 'test.conll')\n",
    "\n",
    "train_data_labels = [word[PARSE_LAYER.SNS] for sentence in train_data for word in sentence]\n",
    "test_data_labels = [word[PARSE_LAYER.SNS] for sentence in test_data for word in sentence]"
   ]
  },
  {
   "cell_type": "markdown",
   "metadata": {},
   "source": [
    "### Preprocesing"
   ]
  },
  {
   "cell_type": "code",
   "execution_count": 5,
   "metadata": {},
   "outputs": [
    {
     "name": "stdout",
     "output_type": "stream",
     "text": [
      "CPU times: total: 4.09 s\n",
      "Wall time: 4.17 s\n"
     ]
    }
   ],
   "source": [
    "%%time\n",
    "# Converts UPenn tags to tags relevant to WordNet\n",
    "def upenn_to_wn_tag(tagged_sentence):\n",
    "    wn_tags = []\n",
    "    for tag in tagged_sentence:\n",
    "        if tag[1].startswith('J'):\n",
    "            wn_tags.append('a')\n",
    "        elif tag[1].startswith('V'):\n",
    "            wn_tags.append('v')\n",
    "        elif tag[1].startswith('N'):\n",
    "            wn_tags.append('n')\n",
    "        elif tag[1].startswith('R'):\n",
    "            wn_tags.append('r')\n",
    "        else:\n",
    "            wn_tags.append(None)\n",
    "\n",
    "    return wn_tags\n",
    "\n",
    "# Adds the WordNet POS tags to the PMB data\n",
    "def add_pos_tag(data):\n",
    "    for sentence in data:\n",
    "        tagged_sentence = pos_tag([item[0] for item in sentence])\n",
    "        wn_tags = upenn_to_wn_tag(tagged_sentence)\n",
    "        for idx, word in enumerate(sentence):\n",
    "            word.append(wn_tags[idx])\n",
    "            \n",
    "    return data\n",
    "\n",
    "train_data = add_pos_tag(train_data)\n",
    "test_data = add_pos_tag(test_data)"
   ]
  },
  {
   "cell_type": "markdown",
   "metadata": {},
   "source": [
    "### Baseline\n",
    "Use the most frequent sense for that word based on its POS."
   ]
  },
  {
   "cell_type": "code",
   "execution_count": 6,
   "metadata": {},
   "outputs": [
    {
     "name": "stdout",
     "output_type": "stream",
     "text": [
      "Accuracy: 0.6195572496701364\n",
      "CPU times: total: 1.66 s\n",
      "Wall time: 1.66 s\n"
     ]
    }
   ],
   "source": [
    "%%time\n",
    "def baseline_pred(data):\n",
    "    pred = []\n",
    "    for sentence in data:\n",
    "        for word in sentence:\n",
    "            if word[PARSE_LAYER.POS] != None:\n",
    "                lemma = WordNetLemmatizer().lemmatize(word[0], pos=word[PARSE_LAYER.POS])\n",
    "                syns = wn.synsets(word[PARSE_LAYER.SYM].replace('~', '_'), lang='eng', pos=word[PARSE_LAYER.POS])\n",
    "                if len(syns) > 0:\n",
    "                    pred.append(syns[0].name())\n",
    "                else:\n",
    "                    pred.append('O')\n",
    "            else:\n",
    "                pred.append('O')\n",
    "    \n",
    "    return pred\n",
    "\n",
    "print(\"Accuracy:\", accuracy_score(test_data_labels, baseline_pred(test_data)))"
   ]
  }
 ],
 "metadata": {
  "kernelspec": {
   "display_name": "Python 3.10.8 ('compsem')",
   "language": "python",
   "name": "python3"
  },
  "language_info": {
   "codemirror_mode": {
    "name": "ipython",
    "version": 3
   },
   "file_extension": ".py",
   "mimetype": "text/x-python",
   "name": "python",
   "nbconvert_exporter": "python",
   "pygments_lexer": "ipython3",
   "version": "3.10.8"
  },
  "orig_nbformat": 4,
  "vscode": {
   "interpreter": {
    "hash": "40d8df1c93d52095079b28c314882b9f8223933acddcf9ddd27c0be9d60904f8"
   }
  }
 },
 "nbformat": 4,
 "nbformat_minor": 2
}

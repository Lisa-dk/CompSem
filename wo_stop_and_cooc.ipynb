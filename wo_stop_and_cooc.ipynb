{
 "cells": [
  {
   "cell_type": "code",
   "execution_count": 42,
   "metadata": {},
   "outputs": [],
   "source": [
    "# !{sys.executable} -m pip install nltk \n",
    "# !{sys.executable} -m pip install  atlas\n",
    "# !{sys.executable} -m pip install --upgrade scipy\n",
    "# !{sys.executable} -m pip install gensim\n",
    "\n",
    "import numpy as np \n",
    "import sys \n",
    "import os \n",
    "from io import open \n",
    "\n",
    "import nltk \n",
    "# nltk.download('wordnet')\n",
    "# nltk.download('omw-1.4')\n",
    "# nltk.download('all')\n",
    "# nltk.download('averaged_perceptron_tagger')\n",
    "from nltk.tag import pos_tag\n",
    "from nltk.wsd import lesk\n",
    "from nltk.stem import WordNetLemmatizer\n",
    "from nltk.tokenize import word_tokenize\n",
    "from nltk.corpus import stopwords\n",
    "from nltk.corpus import wordnet as wn\n",
    "\n",
    "from logging import debug, info, warning, error\n",
    "from sklearn.metrics import accuracy_score\n",
    "\n",
    "\n",
    "stop_words = set(stopwords.words('english')) "
   ]
  },
  {
   "attachments": {},
   "cell_type": "markdown",
   "metadata": {},
   "source": [
    "Word2vec model"
   ]
  },
  {
   "cell_type": "code",
   "execution_count": null,
   "metadata": {},
   "outputs": [],
   "source": [
    "import gensim\n",
    "from gensim.models import KeyedVectors\n",
    "# these are the vectors from a pre-trained model. \n",
    "# download them at https://code.google.com/archive/p/word2vec/ (it's about 1.5 GB)\n",
    "# There is also a way to load the model instead of loading the downloaded vectors, I wil look into that, \n",
    "# link to papers: https://arxiv.org/pdf/1310.4546.pdf https://arxiv.org/pdf/1301.3781.pdf\n",
    "# alternatively, spacy also has a pre-trained model, but the model architecture doesn't seem to be documented as well https://github.com/explosion/floret\n",
    "goog_model = KeyedVectors.load_word2vec_format('./GoogleNews-vectors-negative300.bin.gz', binary=True)\n",
    "print(goog_model.get_vector(key='world', norm=True))"
   ]
  },
  {
   "cell_type": "code",
   "execution_count": 43,
   "metadata": {},
   "outputs": [],
   "source": [
    "class PARSE_LAYER: \n",
    "    ORG = 0\n",
    "    SYM = 2 \n",
    "    SEM = 3 \n",
    "    CAT = 4 \n",
    "    SNS = 5 \n",
    "    ROL = 6 \n",
    "    POS = 7"
   ]
  },
  {
   "attachments": {},
   "cell_type": "markdown",
   "metadata": {},
   "source": [
    "### Reading data"
   ]
  },
  {
   "cell_type": "code",
   "execution_count": 44,
   "metadata": {},
   "outputs": [],
   "source": [
    "# From the repository of the data\n",
    "def get_conll_blocks(in_file, split_lines=True, add_doc=False):\n",
    "    '''Read a CoNLL formatted input file and return the list of lists per sentence/document'''\n",
    "    docs = []\n",
    "    cur_doc = []\n",
    "    doc_ids = []\n",
    "    num_lines = -1\n",
    "    for line in open(in_file, 'r'):\n",
    "        if not line.strip() and cur_doc:\n",
    "            docs.append(cur_doc)\n",
    "            cur_doc = []\n",
    "            doc_ids.append(num_lines)\n",
    "        elif line.strip().startswith('# newdoc'):\n",
    "            # Keep track of start of new documents in doc_ids\n",
    "            # We form a list of all sentences in docs, but at some\n",
    "            # point we have to put multi-sent docs in a single file\n",
    "            num_lines += 1\n",
    "            if add_doc:\n",
    "                cur_doc.append(line.strip())\n",
    "        elif not line.strip().startswith('#') and line.strip():\n",
    "            if len(line.split()) != 7:\n",
    "                raise ValueError(\"Line should always consist of 7 layer-values, found {0}\\n{1}\".format(len(line.split()), line.strip()))\n",
    "            if split_lines:\n",
    "                cur_doc.append(line.split())\n",
    "            else:\n",
    "                cur_doc.append(line.strip())\n",
    "    # Add left over one if there's not an ending last line\n",
    "    if cur_doc:\n",
    "        docs.append(cur_doc)\n",
    "        doc_ids.append(num_lines)\n",
    "    # If num_lines is never increased, this means that the # newdoc information was not added\n",
    "    # In that case we just assume the default of 1 doc per block\n",
    "    if num_lines == -1:\n",
    "        info(\"Assuming 1 document per CoNLL block\")\n",
    "        doc_ids = range(0, len(docs))\n",
    "    info(\"Extracted {0} sents, for {1} docs\".format(len(docs), doc_ids[-1] + 1))\n",
    "    return docs, doc_ids\n"
   ]
  },
  {
   "cell_type": "code",
   "execution_count": 45,
   "metadata": {},
   "outputs": [],
   "source": [
    "def read_data(directory, filename):\n",
    "     path = os.path.join(directory, filename)\n",
    "     docs, docs_ids = get_conll_blocks(path)\n",
    "     return docs"
   ]
  },
  {
   "cell_type": "code",
   "execution_count": 46,
   "metadata": {},
   "outputs": [],
   "source": [
    "def get_labels(data):\n",
    "    labels = []\n",
    "    for sentence in data:\n",
    "        for word in sentence:\n",
    "            if word[PARSE_LAYER.SYM].lower() in stop_words:\n",
    "                continue\n",
    "            elif word[PARSE_LAYER.SYM].lower() == '.':\n",
    "                continue\n",
    "            else:\n",
    "                labels.append(word[PARSE_LAYER.SNS])\n",
    "    return labels\n",
    "    "
   ]
  },
  {
   "cell_type": "code",
   "execution_count": 47,
   "metadata": {},
   "outputs": [],
   "source": [
    "language = 'en'\n",
    "standard = 'gold'\n",
    "\n",
    "directory = os.path.join('./data/4.0.0', language, standard)\n",
    "\n",
    "train_data = read_data(os.path.join(directory), 'train.conll')\n",
    "test_data = read_data(os.path.join(directory), 'test.conll')\n",
    "\n",
    "train_labels = get_labels(train_data)\n",
    "test_labels = get_labels(test_data)\n"
   ]
  },
  {
   "attachments": {},
   "cell_type": "markdown",
   "metadata": {},
   "source": [
    "Preprocessing"
   ]
  },
  {
   "cell_type": "code",
   "execution_count": 48,
   "metadata": {},
   "outputs": [
    {
     "name": "stdout",
     "output_type": "stream",
     "text": [
      "CPU times: user 1.34 s, sys: 88.4 ms, total: 1.43 s\n",
      "Wall time: 1.43 s\n"
     ]
    }
   ],
   "source": [
    "%%time\n",
    "# Converts UPenn tags to tags relevant to WordNet\n",
    "def upenn_to_wn_tag(tagged_sentence):\n",
    "    wn_tags = []\n",
    "    for tag in tagged_sentence:\n",
    "        if tag[1].startswith('J'):\n",
    "            wn_tags.append('a')\n",
    "        elif tag[1].startswith('V'):\n",
    "            wn_tags.append('v')\n",
    "        elif tag[1].startswith('N'):\n",
    "            wn_tags.append('n')\n",
    "        elif tag[1].startswith('R'):\n",
    "            wn_tags.append('r')\n",
    "        else:\n",
    "            wn_tags.append(None)\n",
    "\n",
    "    return wn_tags\n",
    "\n",
    "# Adds the WordNet POS tags to the PMB data\n",
    "def add_pos_tag(data):\n",
    "    for sentence in data:\n",
    "        tagged_sentence = pos_tag([item[0] for item in sentence])\n",
    "        wn_tags = upenn_to_wn_tag(tagged_sentence)\n",
    "        for idx, word in enumerate(sentence):\n",
    "            word.append(wn_tags[idx])\n",
    "            \n",
    "    return data\n",
    "\n",
    "train_data = add_pos_tag(train_data)\n",
    "test_data = add_pos_tag(test_data)\n",
    "\n",
    "all_data = train_data + test_data\n",
    "\n",
    "sem_tags_all = np.array([word[PARSE_LAYER.SEM] for sentence in all_data for word in sentence])\n",
    "sem_classes = np.unique(sem_tags_all)\n",
    "\n",
    "pos_tags_all = np.array([str(word[PARSE_LAYER.POS]) for sentence in all_data for word in sentence])\n",
    "pos_classes = np.unique(pos_tags_all)\n",
    "\n",
    "cat_tags_all = np.array([str(word[PARSE_LAYER.CAT]) for sentence in all_data for word in sentence])\n",
    "cat_classes = np.unique(cat_tags_all)"
   ]
  },
  {
   "attachments": {},
   "cell_type": "markdown",
   "metadata": {},
   "source": [
    "Getting 500 most frequent words in the training data,\n",
    "and the sentences as lists e.g ['a', 'girl', 'giggles']"
   ]
  },
  {
   "cell_type": "code",
   "execution_count": 49,
   "metadata": {},
   "outputs": [],
   "source": [
    "all_train_sentences = []\n",
    "all_words = []\n",
    "for sentence in train_data:\n",
    "    sentence_words = []\n",
    "    for word in sentence:\n",
    "        if word[PARSE_LAYER.SYM] != '.':\n",
    "            sentence_words.append(word[PARSE_LAYER.SYM])\n",
    "            all_words.append(word[PARSE_LAYER.SYM])\n",
    "    all_train_sentences.append(sentence_words)\n",
    "\n",
    "unique_words = np.unique(all_words).tolist()\n",
    "\n",
    "dictionary = {}\n",
    "for word in unique_words:\n",
    "    dictionary[word] = all_words.count(word)\n",
    "\n",
    "sorted_dict = sorted(dictionary.items(), key=lambda x:x[1], reverse=True)\n",
    "\n",
    "n_frequent_words = 300\n",
    "most_frequent_words = [key for key, value in sorted_dict[0:n_frequent_words-1]]\n"
   ]
  },
  {
   "attachments": {},
   "cell_type": "markdown",
   "metadata": {},
   "source": [
    "### Features"
   ]
  },
  {
   "attachments": {},
   "cell_type": "markdown",
   "metadata": {},
   "source": [
    "Semantic, POS, and category tags of target word"
   ]
  },
  {
   "cell_type": "code",
   "execution_count": 10,
   "metadata": {},
   "outputs": [],
   "source": [
    "def get_pos_idx(word_pos, pos_classes):\n",
    "    return np.where(pos_classes == str(word_pos))[0][0]\n",
    "\n",
    "def get_sem_idx(word_sem, sem_classes):\n",
    "    return np.where(sem_classes == str(word_sem))[0][0]\n",
    "\n",
    "def get_cat_idx(word_cat, cat_classes):\n",
    "    return np.where(cat_classes == str(word_cat))[0][0]\n",
    "\n",
    "def get_sempos_feats(data):\n",
    "    features = []\n",
    "    contents_per_sentence = []\n",
    "    neighbours = 1\n",
    "    for sentence in data:\n",
    "        contents = []\n",
    "        for word_idx in range(len((sentence))):\n",
    "            word = sentence[word_idx]\n",
    "            if word[PARSE_LAYER.SYM].lower() in stop_words:\n",
    "                continue\n",
    "            elif word[PARSE_LAYER.SYM] == '.':\n",
    "                continue\n",
    "            else:\n",
    "                pos_idx = get_pos_idx(word[PARSE_LAYER.POS], pos_classes)\n",
    "                sem_idx = get_sem_idx(word[PARSE_LAYER.SEM], sem_classes)\n",
    "                cat_idx = get_cat_idx(word[PARSE_LAYER.CAT], cat_classes)\n",
    "                features.append([sem_idx, pos_idx, cat_idx])\n",
    "    return features\n",
    "\n",
    "train_features = get_sempos_feats(train_data)\n",
    "test_features = get_sempos_feats(test_data)"
   ]
  },
  {
   "attachments": {},
   "cell_type": "markdown",
   "metadata": {},
   "source": [
    "Sem, POS, category tags of target and neighbouring words"
   ]
  },
  {
   "cell_type": "code",
   "execution_count": null,
   "metadata": {},
   "outputs": [],
   "source": [
    "def get_n_feats(data):\n",
    "    features = []\n",
    "    contents_per_sentence = []\n",
    "    neighbours_dist = 1\n",
    "    for sentence in data:\n",
    "        contents = []\n",
    "        for word_idx in range(len((sentence))):\n",
    "            word = sentence[word_idx]\n",
    "            if word[PARSE_LAYER.SYM].lower() in stop_words:\n",
    "                continue\n",
    "            elif word[PARSE_LAYER.SYM] == '.':\n",
    "                continue\n",
    "            else:\n",
    "                contents.append(word)\n",
    "        neighs = []\n",
    "        if len(contents) == 1:\n",
    "            pos_idx = get_pos_idx(word[PARSE_LAYER.POS], pos_classes)\n",
    "            sem_idx = get_sem_idx(word[PARSE_LAYER.SEM], sem_classes)\n",
    "            cat_idx = get_cat_idx(word[PARSE_LAYER.CAT], cat_classes)\n",
    "            neighs = [sem_idx, pos_idx, cat_idx, -1, -1, -1, -1, -1, -1]\n",
    "            contents_per_sentence.append(neighs)\n",
    "        else:\n",
    "            word_idx = 0\n",
    "            while word_idx != len(contents):\n",
    "                word = contents[word_idx]\n",
    "                pos_idx = get_pos_idx(word[PARSE_LAYER.POS], pos_classes)\n",
    "                sem_idx = get_sem_idx(word[PARSE_LAYER.SEM], sem_classes)\n",
    "                cat_idx = get_cat_idx(word[PARSE_LAYER.CAT], cat_classes)\n",
    "                if len(neighs) != (neighbours_dist*2 + 1)*3:\n",
    "                    neighs.append(sem_idx)\n",
    "                    neighs.append(pos_idx)\n",
    "                    neighs.append(cat_idx)\n",
    "                    if word_idx == 0:\n",
    "                        if len(contents) == 2:\n",
    "                            n1 = contents[word_idx + 1]\n",
    "                            neighs.append(get_sem_idx(n1[PARSE_LAYER.SEM], sem_classes))\n",
    "                            neighs.append(get_pos_idx(n1[PARSE_LAYER.POS], pos_classes))\n",
    "                            neighs.append(get_cat_idx(n1[PARSE_LAYER.CAT], cat_classes))\n",
    "                            neighs.append(-1)\n",
    "                            neighs.append(-1)\n",
    "                            neighs.append(-1)\n",
    "                        else:\n",
    "                            n1 = contents[word_idx + 1]\n",
    "                            n2 = contents[word_idx + 2]\n",
    "                            neighs.append(get_sem_idx(n1[PARSE_LAYER.SEM], sem_classes))\n",
    "                            neighs.append(get_pos_idx(n1[PARSE_LAYER.POS], pos_classes))\n",
    "                            neighs.append(get_cat_idx(n1[PARSE_LAYER.CAT], cat_classes))\n",
    "                            neighs.append(get_sem_idx(n2[PARSE_LAYER.SEM], sem_classes))\n",
    "                            neighs.append(get_pos_idx(n2[PARSE_LAYER.POS], pos_classes))\n",
    "                            neighs.append(get_cat_idx(n2[PARSE_LAYER.CAT], cat_classes))\n",
    "                    elif word_idx == len(contents) - 1:\n",
    "                        if len(contents) == 2:\n",
    "                            n1 = contents[word_idx - 1]\n",
    "                            neighs.append(get_sem_idx(n1[PARSE_LAYER.SEM], sem_classes))\n",
    "                            neighs.append(get_pos_idx(n1[PARSE_LAYER.POS], pos_classes))\n",
    "                            neighs.append(get_cat_idx(n1[PARSE_LAYER.CAT], cat_classes))\n",
    "                            neighs.append(-1)\n",
    "                            neighs.append(-1)\n",
    "                            neighs.append(-1)\n",
    "                        else:\n",
    "                            n1 = contents[word_idx - 1]\n",
    "                            n2 = contents[word_idx - 2]\n",
    "                            neighs.append(get_sem_idx(n1[PARSE_LAYER.SEM], sem_classes))\n",
    "                            neighs.append(get_pos_idx(n1[PARSE_LAYER.POS], pos_classes))\n",
    "                            neighs.append(get_cat_idx(n1[PARSE_LAYER.CAT], cat_classes))\n",
    "                            neighs.append(get_sem_idx(n2[PARSE_LAYER.SEM], sem_classes))\n",
    "                            neighs.append(get_pos_idx(n2[PARSE_LAYER.POS], pos_classes))\n",
    "                            neighs.append(get_cat_idx(n2[PARSE_LAYER.CAT], cat_classes))\n",
    "                    else:\n",
    "                        n1 = contents[word_idx - 1]\n",
    "                        n2 = contents[word_idx + 1]\n",
    "                        neighs.append(get_sem_idx(n1[PARSE_LAYER.SEM], sem_classes))\n",
    "                        neighs.append(get_pos_idx(n1[PARSE_LAYER.POS], pos_classes))\n",
    "                        neighs.append(get_cat_idx(n1[PARSE_LAYER.CAT], cat_classes))\n",
    "                        neighs.append(get_sem_idx(n2[PARSE_LAYER.SEM], sem_classes))\n",
    "                        neighs.append(get_pos_idx(n2[PARSE_LAYER.POS], pos_classes))\n",
    "                        neighs.append(get_cat_idx(n2[PARSE_LAYER.CAT], cat_classes))\n",
    "                else:\n",
    "                    contents_per_sentence.append(neighs)\n",
    "                    neighs = []\n",
    "                    word_idx += 1\n",
    "                \n",
    "    return contents_per_sentence\n",
    "\n",
    "train_n_feats = get_n_feats(train_data)\n",
    "test_n_feats = get_n_feats(test_data)"
   ]
  },
  {
   "attachments": {},
   "cell_type": "markdown",
   "metadata": {},
   "source": [
    "### Co-occurence feature\n",
    "Count for the number of times a word co-occurs with the target word, per frequent word."
   ]
  },
  {
   "cell_type": "code",
   "execution_count": null,
   "metadata": {},
   "outputs": [],
   "source": [
    "def get_co_occurence(target_word, word_list, sentences):\n",
    "    co_occurences = [0 for i in word_list]\n",
    "    for word_idx in range(len(word_list)):\n",
    "        word = word_list[word_idx]\n",
    "        for sentence in sentences:\n",
    "            co_occurences[word_idx] += sentence.count(word)\n",
    "    return co_occurences\n",
    "\n",
    "def get_co_occurence_feature(data, frequent_words, full_sentences):\n",
    "    features = []\n",
    "    for sentence_idx in range(len(data)):\n",
    "        print(sentence_idx)\n",
    "        sentence = data[sentence_idx]\n",
    "        for word in sentence:\n",
    "            if word[PARSE_LAYER.SYM] in stop_words:\n",
    "                continue\n",
    "            elif word[PARSE_LAYER.SYM] != '.':\n",
    "                co_occurences = get_co_occurence(word[PARSE_LAYER.SYM], frequent_words, full_sentences)\n",
    "                features.append(co_occurences)\n",
    "    return features\n",
    "\n",
    "co_occurence_features_train = get_co_occurence_feature(train_data, most_frequent_words, all_train_sentences)\n",
    "print('getting test features..')\n",
    "co_occurence_features_test = get_co_occurence_feature(test_data, most_frequent_words, all_train_sentences)"
   ]
  },
  {
   "cell_type": "code",
   "execution_count": 54,
   "metadata": {},
   "outputs": [],
   "source": [
    "np.save('co_feat_train.npy', co_occurence_features_train)\n",
    "np.save('co_feat_test.npy', co_occurence_features_test)"
   ]
  },
  {
   "cell_type": "code",
   "execution_count": 55,
   "metadata": {},
   "outputs": [],
   "source": [
    "from sklearn.preprocessing import MinMaxScaler\n",
    "scaler = MinMaxScaler()\n",
    "scaler.fit(co_occurence_features_train)\n",
    "co_train_feats = scaler.transform(co_occurence_features_train)\n",
    "co_test_feats = scaler.transform(co_occurence_features_test)"
   ]
  },
  {
   "cell_type": "code",
   "execution_count": 59,
   "metadata": {},
   "outputs": [
    {
     "name": "stdout",
     "output_type": "stream",
     "text": [
      "0.3696369636963696\n"
     ]
    }
   ],
   "source": [
    "from sklearn.neighbors import KNeighborsClassifier\n",
    "from sklearn.ensemble import RandomForestClassifier\n",
    "model = RandomForestClassifier(random_state=42)\n",
    "model.fit(train_features, train_labels)\n",
    "y_pred = model.predict(test_features)\n",
    "print(accuracy_score(test_labels, y_pred))\n",
    "\n"
   ]
  },
  {
   "cell_type": "code",
   "execution_count": 60,
   "metadata": {},
   "outputs": [],
   "source": [
    "model = RandomForestClassifier(random_state=42)\n",
    "model.fit(train_n_feats, train_labels)\n",
    "y_pred = model.predict(test_n_feats)\n",
    "print(accuracy_score(test_labels, y_pred))"
   ]
  },
  {
   "cell_type": "code",
   "execution_count": 56,
   "metadata": {},
   "outputs": [
    {
     "name": "stdout",
     "output_type": "stream",
     "text": [
      "0.22239146991622238\n"
     ]
    },
    {
     "name": "stderr",
     "output_type": "stream",
     "text": [
      "/Users/lisakoopmans/miniforge3/envs/mlp/lib/python3.8/site-packages/sklearn/neighbors/_classification.py:237: FutureWarning: Unlike other reduction functions (e.g. `skew`, `kurtosis`), the default behavior of `mode` typically preserves the axis it acts along. In SciPy 1.11.0, this behavior will change: the default value of `keepdims` will become False, the `axis` over which the statistic is taken will be eliminated, and the value None will no longer be accepted. Set `keepdims` to True or False to avoid this warning.\n",
      "  mode, _ = stats.mode(_y[neigh_ind, k], axis=1)\n"
     ]
    }
   ],
   "source": [
    "model = KNeighborsClassifier()\n",
    "model.fit(co_train_feats, train_labels)\n",
    "y_pred = model.predict(co_test_feats)\n",
    "print(accuracy_score(test_labels, y_pred))"
   ]
  },
  {
   "cell_type": "code",
   "execution_count": null,
   "metadata": {},
   "outputs": [
    {
     "name": "stdout",
     "output_type": "stream",
     "text": [
      "Accuracy: 0.5168824574765168\n",
      "CPU times: user 23.6 ms, sys: 13.9 ms, total: 37.5 ms\n",
      "Wall time: 36.4 ms\n"
     ]
    }
   ],
   "source": [
    "%%time\n",
    "def baseline_pred(data):\n",
    "    pred = []\n",
    "    for sentence in data:\n",
    "        for word in sentence:\n",
    "            if word[PARSE_LAYER.SYM].lower() in stop_words:\n",
    "                continue\n",
    "            elif word[PARSE_LAYER.SYM] == '.':\n",
    "                continue\n",
    "            if word[PARSE_LAYER.POS] != None:\n",
    "                lemma = WordNetLemmatizer().lemmatize(word[0], pos=word[PARSE_LAYER.POS])\n",
    "                syns = wn.synsets(word[PARSE_LAYER.SYM].replace('~', '_'), lang='eng', pos=word[PARSE_LAYER.POS])\n",
    "                if len(syns) > 0:\n",
    "                    pred.append(syns[0].name())\n",
    "                else:\n",
    "                    pred.append('O')\n",
    "            else:\n",
    "                pred.append('O')\n",
    "    \n",
    "    return pred\n",
    "\n",
    "print(\"Accuracy:\", accuracy_score(test_labels, baseline_pred(test_data)))"
   ]
  }
 ],
 "metadata": {
  "kernelspec": {
   "display_name": "mlp",
   "language": "python",
   "name": "python3"
  },
  "language_info": {
   "codemirror_mode": {
    "name": "ipython",
    "version": 3
   },
   "file_extension": ".py",
   "mimetype": "text/x-python",
   "name": "python",
   "nbconvert_exporter": "python",
   "pygments_lexer": "ipython3",
   "version": "3.8.5"
  },
  "orig_nbformat": 4,
  "vscode": {
   "interpreter": {
    "hash": "b1d2e8c8e0dae5cc18d8c1ce376cecf2defda75ea962015ba4a05eb1f89d55f8"
   }
  }
 },
 "nbformat": 4,
 "nbformat_minor": 2
}

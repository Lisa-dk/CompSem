{
 "cells": [
  {
   "cell_type": "code",
   "execution_count": 20,
   "metadata": {},
   "outputs": [
    {
     "name": "stdout",
     "output_type": "stream",
     "text": [
      "Requirement already satisfied: nltk in /Users/lisakoopmans/miniforge3/envs/mlp/lib/python3.8/site-packages (3.8.1)\n",
      "Requirement already satisfied: tqdm in /Users/lisakoopmans/miniforge3/envs/mlp/lib/python3.8/site-packages (from nltk) (4.64.0)\n",
      "Requirement already satisfied: regex>=2021.8.3 in /Users/lisakoopmans/miniforge3/envs/mlp/lib/python3.8/site-packages (from nltk) (2022.10.31)\n",
      "Requirement already satisfied: joblib in /Users/lisakoopmans/miniforge3/envs/mlp/lib/python3.8/site-packages (from nltk) (1.1.0)\n",
      "Requirement already satisfied: click in /Users/lisakoopmans/miniforge3/envs/mlp/lib/python3.8/site-packages (from nltk) (7.1.2)\n"
     ]
    },
    {
     "name": "stderr",
     "output_type": "stream",
     "text": [
      "[nltk_data] Downloading package wordnet to\n",
      "[nltk_data]     /Users/lisakoopmans/nltk_data...\n",
      "[nltk_data]   Package wordnet is already up-to-date!\n",
      "[nltk_data] Downloading package omw-1.4 to\n",
      "[nltk_data]     /Users/lisakoopmans/nltk_data...\n",
      "[nltk_data]   Package omw-1.4 is already up-to-date!\n"
     ]
    }
   ],
   "source": [
    "import numpy as np \n",
    "import sys \n",
    "from io import open \n",
    "import os \n",
    "!{sys.executable} -m pip install nltk \n",
    "import nltk \n",
    "nltk.download('wordnet')\n",
    "nltk.download('omw-1.4')\n",
    "from logging import debug, info, warning, error\n",
    "from nltk.corpus import wordnet as wn\n",
    "from sklearn.metrics import accuracy_score\n"
   ]
  },
  {
   "cell_type": "code",
   "execution_count": 21,
   "metadata": {},
   "outputs": [],
   "source": [
    "class PARSE_LAYER: \n",
    "    SYM = 2 \n",
    "    SEM = 3 \n",
    "    CAT = 4 \n",
    "    SNS = 5 \n",
    "    ROL = 6 "
   ]
  },
  {
   "cell_type": "code",
   "execution_count": 22,
   "metadata": {},
   "outputs": [],
   "source": [
    "# From the repository of the data\n",
    "def get_conll_blocks(in_file, split_lines=True, add_doc=False):\n",
    "    '''Read a CoNLL formatted input file and return the list of lists per sentence/document'''\n",
    "    docs = []\n",
    "    cur_doc = []\n",
    "    doc_ids = []\n",
    "    num_lines = -1\n",
    "    for line in open(in_file, 'r'):\n",
    "        if not line.strip() and cur_doc:\n",
    "            docs.append(cur_doc)\n",
    "            cur_doc = []\n",
    "            doc_ids.append(num_lines)\n",
    "        elif line.strip().startswith('# newdoc'):\n",
    "            # Keep track of start of new documents in doc_ids\n",
    "            # We form a list of all sentences in docs, but at some\n",
    "            # point we have to put multi-sent docs in a single file\n",
    "            num_lines += 1\n",
    "            if add_doc:\n",
    "                cur_doc.append(line.strip())\n",
    "        elif not line.strip().startswith('#') and line.strip():\n",
    "            if len(line.split()) != 7:\n",
    "                raise ValueError(\"Line should always consist of 7 layer-values, found {0}\\n{1}\".format(len(line.split()), line.strip()))\n",
    "            if split_lines:\n",
    "                cur_doc.append(line.split())\n",
    "            else:\n",
    "                cur_doc.append(line.strip())\n",
    "    # Add left over one if there's not an ending last line\n",
    "    if cur_doc:\n",
    "        docs.append(cur_doc)\n",
    "        doc_ids.append(num_lines)\n",
    "    # If num_lines is never increased, this means that the # newdoc information was not added\n",
    "    # In that case we just assume the default of 1 doc per block\n",
    "    if num_lines == -1:\n",
    "        info(\"Assuming 1 document per CoNLL block\")\n",
    "        doc_ids = range(0, len(docs))\n",
    "    info(\"Extracted {0} sents, for {1} docs\".format(len(docs), doc_ids[-1] + 1))\n",
    "    return docs, doc_ids\n"
   ]
  },
  {
   "cell_type": "code",
   "execution_count": 32,
   "metadata": {},
   "outputs": [
    {
     "name": "stdout",
     "output_type": "stream",
     "text": [
      "./data/4.0.0/en/gold\n"
     ]
    }
   ],
   "source": [
    "def read_data(directory, filename):\n",
    "     path = os.path.join(directory, filename)\n",
    "     docs, docs_ids = get_conll_blocks(path)\n",
    "     return docs\n",
    "\n",
    "language = 'en'\n",
    "standard = 'gold'\n",
    "\n",
    "directory = os.path.join('./data/4.0.0', language, standard)\n",
    "\n",
    "train_data = read_data(os.path.join(directory), 'train.conll')\n",
    "test_data = read_data(os.path.join(directory), 'test.conll')\n",
    "all_data = train_data + test_data\n",
    "\n",
    "sem_tags_all = np.array([word[PARSE_LAYER.SEM] for sentence in all_data for word in sentence])\n",
    "sem_classes = np.unique(sem_tags_all)\n",
    "sem_classes = np.append(sem_classes, '.')\n",
    "\n",
    "train_data_labels = [word[PARSE_LAYER.SNS] for sentence in train_data for word in sentence]\n",
    "test_data_labels = [word[PARSE_LAYER.SNS] for sentence in test_data for word in sentence]"
   ]
  },
  {
   "cell_type": "code",
   "execution_count": 33,
   "metadata": {},
   "outputs": [
    {
     "name": "stdout",
     "output_type": "stream",
     "text": [
      "0.43835214777891807\n"
     ]
    }
   ],
   "source": [
    "def baseline(train_data, test_data, train_data_labels, test_data_labels):\n",
    "    train_data_lemmas = [word[PARSE_LAYER.SYM] for sentence in train_data for word in sentence]\n",
    "    test_data_lemmas = [word[PARSE_LAYER.SYM] for sentence in test_data for word in sentence]\n",
    "\n",
    "    pred = []\n",
    "    for lemma in test_data_lemmas:\n",
    "        syns = wn.synsets(lemma, lang='eng')\n",
    "        if len(syns) > 0:\n",
    "            pred.append(syns[0].name())\n",
    "        else:\n",
    "            pred.append('O')\n",
    "    return accuracy_score(test_data_labels, pred)\n",
    "\n",
    "\n",
    "print(baseline(train_data, test_data, train_data_labels, test_data_labels))"
   ]
  },
  {
   "cell_type": "code",
   "execution_count": 34,
   "metadata": {},
   "outputs": [
    {
     "name": "stdout",
     "output_type": "stream",
     "text": [
      "50408 6821\n"
     ]
    }
   ],
   "source": [
    "def get_sem_features(data):\n",
    "    features = []\n",
    "    for sentence in data:\n",
    "        for word_idx in range(len(sentence)):\n",
    "            # print(word_idx, len(sentence))\n",
    "            if word_idx == 0 and len(sentence) >= 2:\n",
    "                feature = ['.', sentence[word_idx][PARSE_LAYER.SEM], sentence[word_idx + 1][PARSE_LAYER.SEM]]\n",
    "                feature = [np.where(sem_classes == feature[idx])[0][0] for idx in range(len(feature))]\n",
    "            elif word_idx == len(sentence) - 1 and len(sentence) >= 2:\n",
    "                feature = [sentence[word_idx - 1][PARSE_LAYER.SEM], sentence[word_idx][PARSE_LAYER.SEM], '.']\n",
    "                feature = [np.where(sem_classes == feature[idx])[0][0] for idx in range(len(feature))]\n",
    "                # print(feature, word_idx)\n",
    "            else:\n",
    "                if len(sentence) == 1:\n",
    "                    feature = ['.', sentence[word_idx][PARSE_LAYER.SEM], '.']\n",
    "                    feature = [np.where(sem_classes == feature[idx])[0][0] for idx in range(len(feature))]\n",
    "                    # print(feature, word_idx)\n",
    "                else:\n",
    "                    feature = [sentence[word_idx - 1][PARSE_LAYER.SEM], sentence[word_idx][PARSE_LAYER.SEM], sentence[word_idx + 1][PARSE_LAYER.SEM]]\n",
    "                    feature = [np.where(sem_classes == feature[idx])[0][0] for idx in range(len(feature))]\n",
    "        # print(feature, word_idx)\n",
    "            features.append(feature)\n",
    "        \n",
    "    return features\n",
    "    \n",
    "sem_train_features = get_sem_features(train_data)\n",
    "sem_test_features = get_sem_features(test_data)\n",
    "print(len(train_data_labels), len(test_data_labels))\n"
   ]
  },
  {
   "cell_type": "code",
   "execution_count": 35,
   "metadata": {},
   "outputs": [
    {
     "name": "stdout",
     "output_type": "stream",
     "text": [
      "6821 6821\n",
      "0.6268875531447002\n"
     ]
    }
   ],
   "source": [
    "#  Random forest\n",
    "from sklearn.ensemble import RandomForestClassifier\n",
    "from sklearn.metrics import accuracy_score\n",
    "rf = RandomForestClassifier()\n",
    "rf.fit(sem_train_features, train_data_labels)\n",
    "pred = rf.predict(sem_test_features)\n",
    "print(len(test_data_labels), len(pred))\n",
    "print(accuracy_score(test_data_labels, pred))"
   ]
  },
  {
   "cell_type": "code",
   "execution_count": 36,
   "metadata": {},
   "outputs": [
    {
     "name": "stdout",
     "output_type": "stream",
     "text": [
      "0.5179592435126814\n"
     ]
    },
    {
     "name": "stderr",
     "output_type": "stream",
     "text": [
      "/Users/lisakoopmans/miniforge3/envs/mlp/lib/python3.8/site-packages/sklearn/linear_model/_logistic.py:444: ConvergenceWarning: lbfgs failed to converge (status=1):\n",
      "STOP: TOTAL NO. of ITERATIONS REACHED LIMIT.\n",
      "\n",
      "Increase the number of iterations (max_iter) or scale the data as shown in:\n",
      "    https://scikit-learn.org/stable/modules/preprocessing.html\n",
      "Please also refer to the documentation for alternative solver options:\n",
      "    https://scikit-learn.org/stable/modules/linear_model.html#logistic-regression\n",
      "  n_iter_i = _check_optimize_result(\n"
     ]
    }
   ],
   "source": [
    "# Logistic regression\n",
    "from sklearn.linear_model import LogisticRegression\n",
    "lr = LogisticRegression(max_iter=200)\n",
    "lr.fit(sem_train_features, train_data_labels)\n",
    "pred = lr.predict(sem_test_features)\n",
    "print(accuracy_score(test_data_labels, pred))"
   ]
  },
  {
   "cell_type": "code",
   "execution_count": null,
   "metadata": {},
   "outputs": [],
   "source": [
    "## SVM\n",
    "# from sklearn.svm import SVC\n",
    "# svm = SVC()\n",
    "# svm.fit(sem_train_features, train_data_labels)\n",
    "# pred = svm.predict(sem_test_features)\n",
    "# print(accuracy_score(test_data_labels, pred))\n",
    "# 0.5465600698301857 runs for about 3 hours"
   ]
  }
 ],
 "metadata": {
  "kernelspec": {
   "display_name": "mlp",
   "language": "python",
   "name": "python3"
  },
  "language_info": {
   "codemirror_mode": {
    "name": "ipython",
    "version": 3
   },
   "file_extension": ".py",
   "mimetype": "text/x-python",
   "name": "python",
   "nbconvert_exporter": "python",
   "pygments_lexer": "ipython3",
   "version": "3.8.5"
  },
  "orig_nbformat": 4,
  "vscode": {
   "interpreter": {
    "hash": "b1d2e8c8e0dae5cc18d8c1ce376cecf2defda75ea962015ba4a05eb1f89d55f8"
   }
  }
 },
 "nbformat": 4,
 "nbformat_minor": 2
}

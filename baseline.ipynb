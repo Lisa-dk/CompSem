{
 "cells": [
  {
   "cell_type": "code",
   "execution_count": 20,
   "metadata": {},
   "outputs": [
    {
     "name": "stdout",
     "output_type": "stream",
     "text": [
      "Requirement already satisfied: nltk in /Users/lisakoopmans/miniforge3/envs/mlp/lib/python3.8/site-packages (3.8.1)\n",
      "Requirement already satisfied: tqdm in /Users/lisakoopmans/miniforge3/envs/mlp/lib/python3.8/site-packages (from nltk) (4.64.0)\n",
      "Requirement already satisfied: regex>=2021.8.3 in /Users/lisakoopmans/miniforge3/envs/mlp/lib/python3.8/site-packages (from nltk) (2022.10.31)\n",
      "Requirement already satisfied: joblib in /Users/lisakoopmans/miniforge3/envs/mlp/lib/python3.8/site-packages (from nltk) (1.1.0)\n",
      "Requirement already satisfied: click in /Users/lisakoopmans/miniforge3/envs/mlp/lib/python3.8/site-packages (from nltk) (7.1.2)\n"
     ]
    },
    {
     "name": "stderr",
     "output_type": "stream",
     "text": [
      "[nltk_data] Downloading package wordnet to\n",
      "[nltk_data]     /Users/lisakoopmans/nltk_data...\n",
      "[nltk_data]   Package wordnet is already up-to-date!\n",
      "[nltk_data] Downloading package omw-1.4 to\n",
      "[nltk_data]     /Users/lisakoopmans/nltk_data...\n",
      "[nltk_data]   Package omw-1.4 is already up-to-date!\n"
     ]
    }
   ],
   "source": [
    "import numpy as np \n",
    "import sys \n",
    "from io import open \n",
    "import os \n",
    "!{sys.executable} -m pip install nltk \n",
    "import nltk \n",
    "nltk.download('wordnet')\n",
    "nltk.download('omw-1.4')\n",
    "from logging import debug, info, warning, error\n",
    "from nltk.corpus import wordnet as wn\n",
    "from sklearn.metrics import accuracy_score\n"
   ]
  },
  {
   "cell_type": "code",
   "execution_count": 21,
   "metadata": {},
   "outputs": [],
   "source": [
    "class PARSE_LAYER: \n",
    "    SYM = 2 \n",
    "    SEM = 3 \n",
    "    CAT = 4 \n",
    "    SNS = 5 \n",
    "    ROL = 6 "
   ]
  },
  {
   "cell_type": "code",
   "execution_count": 22,
   "metadata": {},
   "outputs": [],
   "source": [
    "def get_conll_blocks(in_file, split_lines=True, add_doc=False):\n",
    "    '''Read a CoNLL formatted input file and return the list of lists per sentence/document'''\n",
    "    docs = []\n",
    "    cur_doc = []\n",
    "    doc_ids = []\n",
    "    num_lines = -1\n",
    "    for line in open(in_file, 'r'):\n",
    "        if not line.strip() and cur_doc:\n",
    "            docs.append(cur_doc)\n",
    "            cur_doc = []\n",
    "            doc_ids.append(num_lines)\n",
    "        elif line.strip().startswith('# newdoc'):\n",
    "            # Keep track of start of new documents in doc_ids\n",
    "            # We form a list of all sentences in docs, but at some\n",
    "            # point we have to put multi-sent docs in a single file\n",
    "            num_lines += 1\n",
    "            if add_doc:\n",
    "                cur_doc.append(line.strip())\n",
    "        elif not line.strip().startswith('#') and line.strip():\n",
    "            if len(line.split()) != 7:\n",
    "                raise ValueError(\"Line should always consist of 7 layer-values, found {0}\\n{1}\".format(len(line.split()), line.strip()))\n",
    "            if split_lines:\n",
    "                cur_doc.append(line.split())\n",
    "            else:\n",
    "                cur_doc.append(line.strip())\n",
    "    # Add left over one if there's not an ending last line\n",
    "    if cur_doc:\n",
    "        docs.append(cur_doc)\n",
    "        doc_ids.append(num_lines)\n",
    "    # If num_lines is never increased, this means that the # newdoc information was not added\n",
    "    # In that case we just assume the default of 1 doc per block\n",
    "    if num_lines == -1:\n",
    "        info(\"Assuming 1 document per CoNLL block\")\n",
    "        doc_ids = range(0, len(docs))\n",
    "    info(\"Extracted {0} sents, for {1} docs\".format(len(docs), doc_ids[-1] + 1))\n",
    "    return docs, doc_ids\n"
   ]
  },
  {
   "cell_type": "code",
   "execution_count": 31,
   "metadata": {},
   "outputs": [
    {
     "name": "stdout",
     "output_type": "stream",
     "text": [
      "./data/4.0.0/en/gold\n",
      "1053\n"
     ]
    }
   ],
   "source": [
    "def read_data(directory, filename):\n",
    "     path = os.path.join(directory, filename)\n",
    "     docs, docs_ids = get_conll_blocks(path)\n",
    "     return docs\n",
    "\n",
    "language = 'en'\n",
    "standard = 'gold'\n",
    "\n",
    "directory = os.path.join('./data/4.0.0', language, standard)\n",
    "print(directory)\n",
    "\n",
    "train_data = read_data(os.path.join(directory), 'train.conll')\n",
    "test_data = read_data(os.path.join(directory), 'test.conll')\n",
    "all_data = train_data + test_data\n",
    "\n",
    "sem_tags_all = np.array([word[PARSE_LAYER.SEM] for sentence in all_data for word in sentence])\n",
    "sem_classes = np.unique(sem_tags_all)\n",
    "sem_classes = np.append(sem_classes, '.')\n",
    "\n",
    "sem_tag_train = [np.where(sem_classes == sem_tags_all[idx])[0][0] for idx in range(len(train_data))]\n",
    "sem_tag_test = [np.where(sem_classes == sem_tags_all[idx])[0][0] for idx in range(len(train_data), len(test_data))]\n",
    "\n",
    "train_data_labels = [word[PARSE_LAYER.SNS] for sentence in train_data for word in sentence]\n",
    "test_data_labels = [word[PARSE_LAYER.SNS] for sentence in test_data for word in sentence]"
   ]
  },
  {
   "cell_type": "code",
   "execution_count": 27,
   "metadata": {},
   "outputs": [
    {
     "name": "stdout",
     "output_type": "stream",
     "text": [
      "6821 6821\n",
      "0.43835214777891807\n"
     ]
    }
   ],
   "source": [
    "def baseline(train_data, test_data, train_data_labels, test_data_labels):\n",
    "    train_data_lemmas = [word[PARSE_LAYER.SYM] for sentence in train_data for word in sentence]\n",
    "    test_data_lemmas = [word[PARSE_LAYER.SYM] for sentence in test_data for word in sentence]\n",
    "\n",
    "    pred = []\n",
    "    for lemma in test_data_lemmas:\n",
    "        syns = wn.synsets(lemma, lang='eng')\n",
    "        if len(syns) > 0:\n",
    "            pred.append(syns[0].name())\n",
    "        else:\n",
    "            pred.append('O')\n",
    "    print(len(test_data_labels), len(pred))\n",
    "    return accuracy_score(test_data_labels, pred)\n",
    "\n",
    "\n",
    "print(baseline(train_data, test_data, train_data_labels, test_data_labels))"
   ]
  },
  {
   "cell_type": "code",
   "execution_count": 28,
   "metadata": {},
   "outputs": [
    {
     "name": "stdout",
     "output_type": "stream",
     "text": [
      "50408 6821\n"
     ]
    }
   ],
   "source": [
    "def get_sem_features(data):\n",
    "    features = []\n",
    "    for sentence in train_data:\n",
    "        for word_idx in range(len(sentence)):\n",
    "            # print(word_idx, len(sentence))\n",
    "            if word_idx == 0 and len(sentence) >= 2:\n",
    "                feature = ['.', sentence[word_idx][PARSE_LAYER.SEM], sentence[word_idx + 1][PARSE_LAYER.SEM]]\n",
    "                feature = [np.where(sem_classes == feature[idx])[0][0] for idx in range(len(feature))]\n",
    "            elif word_idx == len(sentence) - 1 and len(sentence) >= 2:\n",
    "                feature = [sentence[word_idx - 1][PARSE_LAYER.SEM], sentence[word_idx][PARSE_LAYER.SEM], '.']\n",
    "                feature = [np.where(sem_classes == feature[idx])[0][0] for idx in range(len(feature))]\n",
    "                # print(feature, word_idx)\n",
    "            else:\n",
    "                if len(sentence) == 1:\n",
    "                    feature = ['.', sentence[word_idx][PARSE_LAYER.SEM], '.']\n",
    "                    feature = [np.where(sem_classes == feature[idx])[0][0] for idx in range(len(feature))]\n",
    "                    # print(feature, word_idx)\n",
    "                else:\n",
    "                    feature = [sentence[word_idx - 1][PARSE_LAYER.SEM], sentence[word_idx][PARSE_LAYER.SEM], sentence[word_idx + 1][PARSE_LAYER.SEM]]\n",
    "                    feature = [np.where(sem_classes == feature[idx])[0][0] for idx in range(len(feature))]\n",
    "        # print(feature, word_idx)\n",
    "            features.append(feature)\n",
    "        \n",
    "    return features\n",
    "    \n",
    "sem_train_features = get_sem_features(train_data)\n",
    "sem_test_features = get_sem_features(test_data)\n",
    "print(len(train_data_labels), len(test_data_labels))\n",
    "\n",
    "from sklearn.svm import SVC\n",
    "from sklearn.ensemble import RandomForestClassifier\n",
    "from sklearn.metrics import accuracy_score\n",
    "\n",
    "\n"
   ]
  },
  {
   "cell_type": "code",
   "execution_count": 30,
   "metadata": {},
   "outputs": [
    {
     "name": "stdout",
     "output_type": "stream",
     "text": [
      "6821 50408\n"
     ]
    },
    {
     "ename": "ValueError",
     "evalue": "Found input variables with inconsistent numbers of samples: [6821, 50408]",
     "output_type": "error",
     "traceback": [
      "\u001b[0;31m---------------------------------------------------------------------------\u001b[0m",
      "\u001b[0;31mValueError\u001b[0m                                Traceback (most recent call last)",
      "\u001b[1;32m/Users/lisakoopmans/Documents/GitHub/CompSem_priv/baseline.ipynb Cell 7\u001b[0m in \u001b[0;36m<cell line: 6>\u001b[0;34m()\u001b[0m\n\u001b[1;32m      <a href='vscode-notebook-cell:/Users/lisakoopmans/Documents/GitHub/CompSem_priv/baseline.ipynb#X10sZmlsZQ%3D%3D?line=3'>4</a>\u001b[0m pred \u001b[39m=\u001b[39m rf\u001b[39m.\u001b[39mpredict(sem_test_features)\n\u001b[1;32m      <a href='vscode-notebook-cell:/Users/lisakoopmans/Documents/GitHub/CompSem_priv/baseline.ipynb#X10sZmlsZQ%3D%3D?line=4'>5</a>\u001b[0m \u001b[39mprint\u001b[39m(\u001b[39mlen\u001b[39m(test_data_labels), \u001b[39mlen\u001b[39m(pred))\n\u001b[0;32m----> <a href='vscode-notebook-cell:/Users/lisakoopmans/Documents/GitHub/CompSem_priv/baseline.ipynb#X10sZmlsZQ%3D%3D?line=5'>6</a>\u001b[0m \u001b[39mprint\u001b[39m(accuracy_score(test_data_labels, pred))\n",
      "File \u001b[0;32m~/miniforge3/envs/mlp/lib/python3.8/site-packages/sklearn/metrics/_classification.py:211\u001b[0m, in \u001b[0;36maccuracy_score\u001b[0;34m(y_true, y_pred, normalize, sample_weight)\u001b[0m\n\u001b[1;32m    145\u001b[0m \u001b[39m\"\"\"Accuracy classification score.\u001b[39;00m\n\u001b[1;32m    146\u001b[0m \n\u001b[1;32m    147\u001b[0m \u001b[39mIn multilabel classification, this function computes subset accuracy:\u001b[39;00m\n\u001b[0;32m   (...)\u001b[0m\n\u001b[1;32m    207\u001b[0m \u001b[39m0.5\u001b[39;00m\n\u001b[1;32m    208\u001b[0m \u001b[39m\"\"\"\u001b[39;00m\n\u001b[1;32m    210\u001b[0m \u001b[39m# Compute accuracy for each possible representation\u001b[39;00m\n\u001b[0;32m--> 211\u001b[0m y_type, y_true, y_pred \u001b[39m=\u001b[39m _check_targets(y_true, y_pred)\n\u001b[1;32m    212\u001b[0m check_consistent_length(y_true, y_pred, sample_weight)\n\u001b[1;32m    213\u001b[0m \u001b[39mif\u001b[39;00m y_type\u001b[39m.\u001b[39mstartswith(\u001b[39m\"\u001b[39m\u001b[39mmultilabel\u001b[39m\u001b[39m\"\u001b[39m):\n",
      "File \u001b[0;32m~/miniforge3/envs/mlp/lib/python3.8/site-packages/sklearn/metrics/_classification.py:84\u001b[0m, in \u001b[0;36m_check_targets\u001b[0;34m(y_true, y_pred)\u001b[0m\n\u001b[1;32m     57\u001b[0m \u001b[39mdef\u001b[39;00m \u001b[39m_check_targets\u001b[39m(y_true, y_pred):\n\u001b[1;32m     58\u001b[0m     \u001b[39m\"\"\"Check that y_true and y_pred belong to the same classification task.\u001b[39;00m\n\u001b[1;32m     59\u001b[0m \n\u001b[1;32m     60\u001b[0m \u001b[39m    This converts multiclass or binary types to a common shape, and raises a\u001b[39;00m\n\u001b[0;32m   (...)\u001b[0m\n\u001b[1;32m     82\u001b[0m \u001b[39m    y_pred : array or indicator matrix\u001b[39;00m\n\u001b[1;32m     83\u001b[0m \u001b[39m    \"\"\"\u001b[39;00m\n\u001b[0;32m---> 84\u001b[0m     check_consistent_length(y_true, y_pred)\n\u001b[1;32m     85\u001b[0m     type_true \u001b[39m=\u001b[39m type_of_target(y_true, input_name\u001b[39m=\u001b[39m\u001b[39m\"\u001b[39m\u001b[39my_true\u001b[39m\u001b[39m\"\u001b[39m)\n\u001b[1;32m     86\u001b[0m     type_pred \u001b[39m=\u001b[39m type_of_target(y_pred, input_name\u001b[39m=\u001b[39m\u001b[39m\"\u001b[39m\u001b[39my_pred\u001b[39m\u001b[39m\"\u001b[39m)\n",
      "File \u001b[0;32m~/miniforge3/envs/mlp/lib/python3.8/site-packages/sklearn/utils/validation.py:383\u001b[0m, in \u001b[0;36mcheck_consistent_length\u001b[0;34m(*arrays)\u001b[0m\n\u001b[1;32m    381\u001b[0m uniques \u001b[39m=\u001b[39m np\u001b[39m.\u001b[39munique(lengths)\n\u001b[1;32m    382\u001b[0m \u001b[39mif\u001b[39;00m \u001b[39mlen\u001b[39m(uniques) \u001b[39m>\u001b[39m \u001b[39m1\u001b[39m:\n\u001b[0;32m--> 383\u001b[0m     \u001b[39mraise\u001b[39;00m \u001b[39mValueError\u001b[39;00m(\n\u001b[1;32m    384\u001b[0m         \u001b[39m\"\u001b[39m\u001b[39mFound input variables with inconsistent numbers of samples: \u001b[39m\u001b[39m%r\u001b[39;00m\u001b[39m\"\u001b[39m\n\u001b[1;32m    385\u001b[0m         \u001b[39m%\u001b[39m [\u001b[39mint\u001b[39m(l) \u001b[39mfor\u001b[39;00m l \u001b[39min\u001b[39;00m lengths]\n\u001b[1;32m    386\u001b[0m     )\n",
      "\u001b[0;31mValueError\u001b[0m: Found input variables with inconsistent numbers of samples: [6821, 50408]"
     ]
    }
   ],
   "source": [
    "#  Random forest\n",
    "rf = RandomForestClassifier()\n",
    "rf.fit(sem_train_features, train_data_labels)\n",
    "pred = rf.predict(sem_test_features)\n",
    "print(len(test_data_labels), len(pred))\n",
    "print(accuracy_score(test_data_labels, pred))"
   ]
  },
  {
   "cell_type": "code",
   "execution_count": null,
   "metadata": {},
   "outputs": [
    {
     "name": "stderr",
     "output_type": "stream",
     "text": [
      "/Users/lisakoopmans/miniforge3/envs/mlp/lib/python3.8/site-packages/sklearn/linear_model/_logistic.py:444: ConvergenceWarning: lbfgs failed to converge (status=1):\n",
      "STOP: TOTAL NO. of ITERATIONS REACHED LIMIT.\n",
      "\n",
      "Increase the number of iterations (max_iter) or scale the data as shown in:\n",
      "    https://scikit-learn.org/stable/modules/preprocessing.html\n",
      "Please also refer to the documentation for alternative solver options:\n",
      "    https://scikit-learn.org/stable/modules/linear_model.html#logistic-regression\n",
      "  n_iter_i = _check_optimize_result(\n"
     ]
    },
    {
     "name": "stdout",
     "output_type": "stream",
     "text": [
      "0.5201753689890494\n"
     ]
    }
   ],
   "source": [
    "# Logistic regression\n",
    "from sklearn.linear_model import LogisticRegression\n",
    "lr = LogisticRegression()\n",
    "lr.fit(sem_train_features, train_data_labels)\n",
    "pred = lr.predict(sem_test_features)\n",
    "print(accuracy_score(test_data_labels, pred))"
   ]
  },
  {
   "cell_type": "code",
   "execution_count": null,
   "metadata": {},
   "outputs": [],
   "source": [
    "## SVM\n",
    "# svm = SVC()\n",
    "# svm.fit(sem_train_features, train_data_labels)\n",
    "# pred = svm.predict(sem_test_features)\n",
    "# print(accuracy_score(test_data_labels, pred))\n",
    "# 0.5465600698301857 runs for about 3 hours"
   ]
  }
 ],
 "metadata": {
  "kernelspec": {
   "display_name": "mlp",
   "language": "python",
   "name": "python3"
  },
  "language_info": {
   "codemirror_mode": {
    "name": "ipython",
    "version": 3
   },
   "file_extension": ".py",
   "mimetype": "text/x-python",
   "name": "python",
   "nbconvert_exporter": "python",
   "pygments_lexer": "ipython3",
   "version": "3.8.5"
  },
  "orig_nbformat": 4,
  "vscode": {
   "interpreter": {
    "hash": "b1d2e8c8e0dae5cc18d8c1ce376cecf2defda75ea962015ba4a05eb1f89d55f8"
   }
  }
 },
 "nbformat": 4,
 "nbformat_minor": 2
}
